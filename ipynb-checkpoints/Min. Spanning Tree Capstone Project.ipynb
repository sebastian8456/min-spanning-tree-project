{
 "cells": [
  {
   "cell_type": "code",
   "execution_count": null,
   "id": "b0b15a44",
   "metadata": {},
   "outputs": [
    {
     "ename": "",
     "evalue": "",
     "output_type": "error",
     "traceback": [
      "\u001b[1;31mRunning cells with 'Python (system)' requires ipykernel package.\n",
      "\u001b[1;31mRun the following command to install 'ipykernel' into the Python environment. \n",
      "\u001b[1;31mCommand: 'c:/Users/minec/anaconda3/pkgs/python-3.9.7-h6244533_1/python.exe -m pip install ipykernel -U --user --force-reinstall'"
     ]
    }
   ],
   "source": [
    "# Time: 1+ wks\n",
    "# Project: minimum spanning tree' (graph)\n",
    "# Difficulty: Hard\n",
    "\n",
    "# Goal:\n",
    "    # Create a program which takes a connected, undirected graph with weights and \n",
    "        # outputs the minimum spanning tree of the graph \n",
    "        # i.e., a subgraph that is a tree, contains all the vertices, and the sum of its weights is the least possible.\n",
    "    # Automate the creation of a min. spanning tree\n",
    "    \n",
    "# Requirements:\n",
    "    # It must not form a cycle i.e, no edge is traversed twice.\n",
    "    # There must be no other spanning tree with lesser weight.\n",
    "    \n",
    "# Hints:\n",
    "    # The total number of spanning trees with n vertices that can be created from a complete graph is equal to n(n-2).\n",
    "    # A minimum spanning tree is a spanning tree in which the sum of the weight of the edges is as minimum as possible.\n",
    "    # Min. spanning tree algorithms include: Prim's algorithm (adjecency matrix), Kruskal's algorithm\n",
    "    # In case of undirected graphs, the matrix is symmetric about the diagonal because of every edge (i,j), \n",
    "        # there is also an edge (j,i).\n",
    "    # ! Max. edges to remove are (E-V+1)"
   ]
  },
  {
   "cell_type": "code",
   "execution_count": null,
   "id": "189e7871",
   "metadata": {},
   "outputs": [
    {
     "ename": "",
     "evalue": "",
     "output_type": "error",
     "traceback": [
      "\u001b[1;31mRunning cells with 'Python (system)' requires ipykernel package.\n",
      "\u001b[1;31mRun the following command to install 'ipykernel' into the Python environment. \n",
      "\u001b[1;31mCommand: 'c:/Users/minec/anaconda3/pkgs/python-3.9.7-h6244533_1/python.exe -m pip install ipykernel -U --user --force-reinstall'"
     ]
    }
   ],
   "source": [
    "import random\n",
    "import math"
   ]
  },
  {
   "cell_type": "code",
   "execution_count": null,
   "id": "f6639f1e",
   "metadata": {},
   "outputs": [
    {
     "ename": "",
     "evalue": "",
     "output_type": "error",
     "traceback": [
      "\u001b[1;31mRunning cells with 'Python (system)' requires ipykernel package.\n",
      "\u001b[1;31mRun the following command to install 'ipykernel' into the Python environment. \n",
      "\u001b[1;31mCommand: 'c:/Users/minec/anaconda3/pkgs/python-3.9.7-h6244533_1/python.exe -m pip install ipykernel -U --user --force-reinstall'"
     ]
    }
   ],
   "source": [
    "#To Do: Make the program clearly state the vertices variable\n",
    "class Graph:\n",
    "    def __init__(self, size):\n",
    "        self.adjMatrix = []\n",
    "        self.size = size\n",
    "        for i in range(size):\n",
    "            self.adjMatrix.append([0 for j in range(size)])\n",
    "    \n",
    "    def get_verticies():\n",
    "        msg = 'How many verticies are in the graph? (1-10): '\n",
    "        v = input(msg)\n",
    "        while not (v.isdigit()) or int(v) not in range(1,11):\n",
    "            v = input(msg)\n",
    "        return int(v)\n",
    "    \n",
    "    def print_graph(self):\n",
    "        print('Graph:')\n",
    "        for row in self.adjMatrix:\n",
    "            print(row)\n",
    "        print(f'\\n')\n",
    "    \n",
    "    def create_graph(self):\n",
    "        for i in range(self.size):\n",
    "            while True:\n",
    "                j = random.randint(0,self.size-1)\n",
    "                if j == i:\n",
    "                    continue\n",
    "                if self.adjMatrix[i][j] == 0:\n",
    "                    self.adjMatrix[i][j] = (random.randint(1,10))\n",
    "                    self.adjMatrix[j][i] = self.adjMatrix[i][j]\n",
    "                else:\n",
    "                    break\n",
    "    \n",
    "    def create_min_span_tree(self):\n",
    "        INF = 9999999\n",
    "        size = self.size\n",
    "        t_weight = 0\n",
    "\n",
    "\n",
    "        mstSet = []\n",
    "        verticies = [INF for n in range(size)]\n",
    "\n",
    "        verticies[0] = 0\n",
    "\n",
    "\n",
    "        # Implementing Prim's algorithm\n",
    "\n",
    "        for count in range(size):\n",
    "            low = INF\n",
    "            for n in range(size):\n",
    "                if verticies.count(verticies[n]) > 1 and n in mstSet:\n",
    "                    verticies[n] = INF\n",
    "                if verticies[n] < low and verticies.index(verticies[n]) not in mstSet:\n",
    "                    low = verticies[n]\n",
    "\n",
    "            u = verticies.index(low)\n",
    "            \n",
    "            mstSet.append(u)\n",
    "            # To do: Get the edge to display the proper verticies.\n",
    "                # G[v2].index(weight)\n",
    "            if count == 0:\n",
    "                print('Vertex: 1')\n",
    "            else:\n",
    "                weight = self.adjMatrix[mstSet[count]][self.adjMatrix[mstSet[count]].index(low)]\n",
    "                t_weight += weight\n",
    "                \n",
    "                # Add one to make the verticies non-zero digits.\n",
    "                print(f'Vertex: {mstSet[count] + 1} Edge: {self.adjMatrix[mstSet[count]].index(weight)+1}-{mstSet[count]+1} Weight: {weight}')\n",
    "                \n",
    "            for v in range(size):\n",
    "                if self.adjMatrix[u][v] < verticies[v] and self.adjMatrix[u][v] != 0:\n",
    "                    verticies[v] = self.adjMatrix[u][v]\n",
    "        print(f'weight: {t_weight}')"
   ]
  },
  {
   "cell_type": "code",
   "execution_count": null,
   "id": "0d2eadec",
   "metadata": {
    "scrolled": false
   },
   "outputs": [
    {
     "ename": "",
     "evalue": "",
     "output_type": "error",
     "traceback": [
      "\u001b[1;31mRunning cells with 'Python (system)' requires ipykernel package.\n",
      "\u001b[1;31mRun the following command to install 'ipykernel' into the Python environment. \n",
      "\u001b[1;31mCommand: 'c:/Users/minec/anaconda3/pkgs/python-3.9.7-h6244533_1/python.exe -m pip install ipykernel -U --user --force-reinstall'"
     ]
    }
   ],
   "source": [
    "myGraph = Graph(5)\n",
    "myGraph.create_graph()\n",
    "myGraph.print_graph()\n",
    "myGraph.create_min_span_tree()"
   ]
  },
  {
   "cell_type": "code",
   "execution_count": null,
   "id": "a9f203ea",
   "metadata": {},
   "outputs": [
    {
     "ename": "",
     "evalue": "",
     "output_type": "error",
     "traceback": [
      "\u001b[1;31mRunning cells with 'Python (system)' requires ipykernel package.\n",
      "\u001b[1;31mRun the following command to install 'ipykernel' into the Python environment. \n",
      "\u001b[1;31mCommand: 'c:/Users/minec/anaconda3/pkgs/python-3.9.7-h6244533_1/python.exe -m pip install ipykernel -U --user --force-reinstall'"
     ]
    }
   ],
   "source": []
  },
  {
   "cell_type": "code",
   "execution_count": null,
   "id": "22f97e68",
   "metadata": {},
   "outputs": [
    {
     "ename": "",
     "evalue": "",
     "output_type": "error",
     "traceback": [
      "\u001b[1;31mRunning cells with 'Python (system)' requires ipykernel package.\n",
      "\u001b[1;31mRun the following command to install 'ipykernel' into the Python environment. \n",
      "\u001b[1;31mCommand: 'c:/Users/minec/anaconda3/pkgs/python-3.9.7-h6244533_1/python.exe -m pip install ipykernel -U --user --force-reinstall'"
     ]
    }
   ],
   "source": []
  }
 ],
 "metadata": {
  "kernelspec": {
   "display_name": "Python (system)",
   "language": "python",
   "name": "python3"
  },
  "language_info": {
   "codemirror_mode": {
    "name": "ipython",
    "version": 3
   },
   "file_extension": ".py",
   "mimetype": "text/x-python",
   "name": "python",
   "nbconvert_exporter": "python",
   "pygments_lexer": "ipython3",
   "version": "3.9.7"
  },
  "vscode": {
   "interpreter": {
    "hash": "d12a21f90a2dc1f64dcb40b6e5e5b23795ff7b24c29ff3cde762b2ae5f04eaea"
   }
  }
 },
 "nbformat": 4,
 "nbformat_minor": 5
}
